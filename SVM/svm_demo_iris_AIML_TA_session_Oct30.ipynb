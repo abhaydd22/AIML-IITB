{
  "nbformat": 4,
  "nbformat_minor": 0,
  "metadata": {
    "colab": {
      "name": "svm_demo_iris_AIML_TA_session_Oct30.ipynb",
      "provenance": [],
      "include_colab_link": true
    },
    "kernelspec": {
      "name": "python3",
      "display_name": "Python 3"
    },
    "language_info": {
      "name": "python"
    }
  },
  "cells": [
    {
      "cell_type": "markdown",
      "metadata": {
        "id": "view-in-github",
        "colab_type": "text"
      },
      "source": [
        "<a href=\"https://colab.research.google.com/github/balamurugan-palaniappan-CEP/AIML_CEP_2021/blob/main/svm_demo_iris_AIML_TA_session_Oct30.ipynb\" target=\"_parent\"><img src=\"https://colab.research.google.com/assets/colab-badge.svg\" alt=\"Open In Colab\"/></a>"
      ]
    },
    {
      "cell_type": "code",
      "metadata": {
        "colab": {
          "base_uri": "https://localhost:8080/"
        },
        "id": "05LbKwMzFPXr",
        "outputId": "84553726-cd4d-4376-adb3-679c38c15811"
      },
      "source": [
        "import numpy as np\n",
        "#for the following statement to compile successfully, you need the scikit-learn package. \n",
        "\n",
        "from sklearn.datasets import load_iris #for loading iris dataset\n",
        "from sklearn.svm import LinearSVC #linear svm from scikit learn \n",
        "\n",
        "np.random.seed(1000) #for reproducibility\n",
        "iris = load_iris()\n",
        "#check the shape of iris data features\n",
        "print('iris data shape:', iris.data.shape)\n",
        "A = iris.data\n",
        "#check the shape of iris target labels\n",
        "print('iris target shape:', iris.target.shape)\n",
        "#We can print first 5 samples of iris data and check \n",
        "print('Features of first five samples of iris data:')\n",
        "print(A[0:5])"
      ],
      "execution_count": null,
      "outputs": [
        {
          "output_type": "stream",
          "name": "stdout",
          "text": [
            "iris data shape: (150, 4)\n",
            "iris target shape: (150,)\n",
            "Features of first five samples of iris data:\n",
            "[[5.1 3.5 1.4 0.2]\n",
            " [4.9 3.  1.4 0.2]\n",
            " [4.7 3.2 1.3 0.2]\n",
            " [4.6 3.1 1.5 0.2]\n",
            " [5.  3.6 1.4 0.2]]\n"
          ]
        }
      ]
    },
    {
      "cell_type": "code",
      "metadata": {
        "colab": {
          "base_uri": "https://localhost:8080/"
        },
        "id": "pZJs2B0XFUr4",
        "outputId": "1786ab0a-6f23-449f-d327-2a65872b3aaf"
      },
      "source": [
        "#How many labels does iris data have? \n",
        "#print the unique classes\n",
        "print('unique classes: ',np.unique(iris.target))\n",
        "n = iris.data.shape[0] #Number of data points or samples \n",
        "d = iris.data.shape[1] #Dimension of data points"
      ],
      "execution_count": null,
      "outputs": [
        {
          "output_type": "stream",
          "name": "stdout",
          "text": [
            "unique classes:  [0 1 2]\n"
          ]
        }
      ]
    },
    {
      "cell_type": "code",
      "metadata": {
        "id": "h2NRwq4VFatm"
      },
      "source": [
        "#In the following code, we create a nx1 vector of target labels \n",
        "y = 1.0*np.ones([A.shape[0],1])\n",
        "for i in range(iris.target.shape[0]):\n",
        "    if iris.target[i] == 1:\n",
        "        y[i] = 1\n",
        "    else:\n",
        "        y[i] = -1"
      ],
      "execution_count": null,
      "outputs": []
    },
    {
      "cell_type": "code",
      "metadata": {
        "id": "U9TDqBYnFgXM"
      },
      "source": [
        "#Create an index array \n",
        "indexarr = np.arange(n) #index array\n",
        "np.random.shuffle(indexarr) #shuffle the indices \n",
        "#print('shuffled indices of samples:')\n",
        "#print(indexarr)"
      ],
      "execution_count": null,
      "outputs": []
    },
    {
      "cell_type": "code",
      "metadata": {
        "colab": {
          "base_uri": "https://localhost:8080/"
        },
        "id": "qlCrNFY6FkgW",
        "outputId": "c71e54a1-c586-44d2-b7a2-ede050ba7e9c"
      },
      "source": [
        "#Use the samples corresponding to first 80% of indexarr for training \n",
        "num_train = int(0.8*n)\n",
        "#Use the remaining 20% samples for testing \n",
        "num_test = n-num_train\n",
        "print('num_train: ',num_train, 'num_test: ', num_test)"
      ],
      "execution_count": null,
      "outputs": [
        {
          "output_type": "stream",
          "name": "stdout",
          "text": [
            "num_train:  120 num_test:  30\n"
          ]
        }
      ]
    },
    {
      "cell_type": "code",
      "metadata": {
        "colab": {
          "base_uri": "https://localhost:8080/"
        },
        "id": "EnWQAUBAFm1-",
        "outputId": "b6ebb0f0-8beb-40a9-a5a2-3166afddc94b"
      },
      "source": [
        "#Use the first 80% of indexarr to create the train data features and train labels \n",
        "train_features = A[indexarr[0:num_train]]\n",
        "train_label = y[indexarr[0:num_train]]\n",
        "print('shape of train data features:')\n",
        "print(train_features.shape)\n",
        "print('shape of train data labels')\n",
        "print(train_label.shape)"
      ],
      "execution_count": null,
      "outputs": [
        {
          "output_type": "stream",
          "name": "stdout",
          "text": [
            "shape of train data features:\n",
            "(120, 4)\n",
            "shape of train data labels\n",
            "(120, 1)\n"
          ]
        }
      ]
    },
    {
      "cell_type": "code",
      "metadata": {
        "colab": {
          "base_uri": "https://localhost:8080/"
        },
        "id": "Ue-YI10kFqbx",
        "outputId": "b76ee00c-6efa-4229-d13e-72c90d12704e"
      },
      "source": [
        "#Use remaining 20% of indexarr to create the test data and test labels  \n",
        "test_features = A[indexarr[num_train:n]]\n",
        "test_label = y[indexarr[num_train:n]]\n",
        "print('shape of test data features:')\n",
        "print(test_features.shape)\n",
        "print('shape of test data labels')\n",
        "print(test_label.shape)"
      ],
      "execution_count": null,
      "outputs": [
        {
          "output_type": "stream",
          "name": "stdout",
          "text": [
            "shape of test data features:\n",
            "(30, 4)\n",
            "shape of test data labels\n",
            "(30, 1)\n"
          ]
        }
      ]
    },
    {
      "cell_type": "code",
      "metadata": {
        "id": "ycOxLlluFu4a"
      },
      "source": [
        "clf = LinearSVC(random_state=0, tol=1e-5) #max_iter=10000"
      ],
      "execution_count": null,
      "outputs": []
    },
    {
      "cell_type": "code",
      "metadata": {
        "colab": {
          "base_uri": "https://localhost:8080/"
        },
        "id": "6HmL2-1zFzZL",
        "outputId": "c8f67f5c-57b6-475e-8875-573a6886cd93"
      },
      "source": [
        "#Get the trained model in clf_model\n",
        "train_label = np.reshape(train_label,(train_label.shape[0],))\n",
        "clf_model = clf.fit(train_features,train_label)\n",
        "#We will now use the trained model for predition on the test data set\n",
        "predicted_labels = clf_model.predict(test_features)"
      ],
      "execution_count": null,
      "outputs": [
        {
          "output_type": "stream",
          "name": "stderr",
          "text": [
            "/usr/local/lib/python3.7/dist-packages/sklearn/svm/_base.py:947: ConvergenceWarning: Liblinear failed to converge, increase the number of iterations.\n",
            "  \"the number of iterations.\", ConvergenceWarning)\n"
          ]
        }
      ]
    },
    {
      "cell_type": "code",
      "metadata": {
        "id": "9KjoLQGGF4DJ"
      },
      "source": [
        "#reshaping predicted_labels so that it is of the same shape as test_label\n",
        "predicted_labels = np.reshape(predicted_labels.data,(num_test,1))\n",
        "#If you wish to see how predicted_labels and test_label look, you can print them and check\n",
        "#print(predicted_labels)\n",
        "#print(test_label)"
      ],
      "execution_count": null,
      "outputs": []
    },
    {
      "cell_type": "code",
      "metadata": {
        "colab": {
          "base_uri": "https://localhost:8080/"
        },
        "id": "IMRUfAYbF_PQ",
        "outputId": "4a1817e6-dbcb-4ea2-fb71-6a84debad007"
      },
      "source": [
        "#compute test set error and test set accuracy \n",
        "test_error = np.sum(0.5*np.abs(predicted_labels-test_label))/len(test_label)*100.0#Try to understand this equation\n",
        "test_accuracy = 100.0-test_error \n",
        "#print the test set accuracy \n",
        "print('test set accuracy:', test_accuracy)"
      ],
      "execution_count": null,
      "outputs": [
        {
          "output_type": "stream",
          "name": "stdout",
          "text": [
            "test set accuracy: 73.33333333333333\n"
          ]
        }
      ]
    },
    {
      "cell_type": "code",
      "metadata": {
        "colab": {
          "base_uri": "https://localhost:8080/"
        },
        "id": "BClHoFu2GCNW",
        "outputId": "b3e598a7-d02b-4210-995f-cdfb85f4257b"
      },
      "source": [
        "#We can also use the trained model clf_model to predict the train set \n",
        "predicted_train_labels = clf_model.predict(train_features)\n",
        "#reshaping predicted_train_labels so that it is of the same shape as train_label\n",
        "predicted_train_labels = np.reshape(predicted_train_labels.data,(num_train,1))\n",
        "#compute train set error and train set accuracy\n",
        "train_label = np.reshape(train_label,(num_train,1))\n",
        "train_error = np.sum(0.5*np.abs(predicted_train_labels-train_label))/len(train_label)*100.0\n",
        "train_accuracy = 100.0-train_error \n",
        "#print the train set accuracy\n",
        "print('train set accuracy:', train_accuracy)"
      ],
      "execution_count": null,
      "outputs": [
        {
          "output_type": "stream",
          "name": "stdout",
          "text": [
            "train set accuracy: 72.5\n"
          ]
        }
      ]
    },
    {
      "cell_type": "code",
      "metadata": {
        "colab": {
          "base_uri": "https://localhost:8080/"
        },
        "id": "0AXPZOMiSaw-",
        "outputId": "25db8a73-f0f3-4978-914d-179712b0f1a2"
      },
      "source": [
        "from sklearn.metrics import confusion_matrix\n",
        "cm_train = confusion_matrix(train_label, predicted_train_labels)\n",
        "print(\"Confusion Matrix (train set):\")\n",
        "print(cm_train)\n",
        "cm_test = confusion_matrix(test_label, predicted_labels)\n",
        "print(\"Confusion Matrix (test set):\")\n",
        "print(cm_test)"
      ],
      "execution_count": null,
      "outputs": [
        {
          "output_type": "stream",
          "name": "stdout",
          "text": [
            "Confusion Matrix (train set):\n",
            "[[72 10]\n",
            " [23 15]]\n",
            "Confusion Matrix (test set):\n",
            "[[18  0]\n",
            " [ 8  4]]\n"
          ]
        }
      ]
    },
    {
      "cell_type": "code",
      "metadata": {
        "colab": {
          "base_uri": "https://localhost:8080/",
          "height": 250
        },
        "id": "WVEntACxQ-PV",
        "outputId": "0efb626d-a330-441f-e682-bc6d8db5732c"
      },
      "source": [
        "#Plotting the confusion matrix for better interpretation\n",
        "import seaborn as sns\n",
        "import matplotlib.pyplot as plt\n",
        "fig, axes = plt.subplots(ncols=2, figsize=(6, 3))\n",
        "ax1, ax2 = axes\n",
        "sns.heatmap(cm_train, annot=True, fmt='g', ax=ax1)\n",
        "sns.heatmap(cm_test, annot=True, fmt='g', ax=ax2)\n",
        "ax1.set_title('Train Data')\n",
        "ax1.xaxis.set_ticklabels(['-1', '1'])\n",
        "ax1.yaxis.set_ticklabels(['-1', '1'])\n",
        "ax2.set_title('Test Data')\n",
        "ax2.xaxis.set_ticklabels(['-1', '1'])\n",
        "ax2.yaxis.set_ticklabels(['-1', '1'])\n",
        "fig.suptitle('Confusion Matrix')"
      ],
      "execution_count": null,
      "outputs": [
        {
          "output_type": "execute_result",
          "data": {
            "text/plain": [
              "Text(0.5, 0.98, 'Confusion Matrix')"
            ]
          },
          "metadata": {},
          "execution_count": 14
        },
        {
          "output_type": "display_data",
          "data": {
            "image/png": "[encoded data removed]",
            "text/plain": [
              "<Figure size 432x216 with 4 Axes>"
            ]
          },
          "metadata": {
            "needs_background": "light"
          }
        }
      ]
    },
    {
      "cell_type": "code",
      "metadata": {
        "colab": {
          "base_uri": "https://localhost:8080/"
        },
        "id": "O_FRwZuakWd8",
        "outputId": "dd1079fa-7eda-4e67-ef3d-830e7bd7c977"
      },
      "source": [
        "from sklearn.metrics import classification_report\n",
        "train_cr = classification_report(train_label, predicted_train_labels)\n",
        "print(\"Train Report:\")\n",
        "print(train_cr)\n",
        "test_cr = classification_report(test_label, predicted_labels)\n",
        "print(\"Test Report:\")\n",
        "print(test_cr)"
      ],
      "execution_count": null,
      "outputs": [
        {
          "output_type": "stream",
          "name": "stdout",
          "text": [
            "Train Report:\n",
            "              precision    recall  f1-score   support\n",
            "\n",
            "        -1.0       0.76      0.88      0.81        82\n",
            "         1.0       0.60      0.39      0.48        38\n",
            "\n",
            "    accuracy                           0.73       120\n",
            "   macro avg       0.68      0.64      0.64       120\n",
            "weighted avg       0.71      0.72      0.71       120\n",
            "\n",
            "Test Report:\n",
            "              precision    recall  f1-score   support\n",
            "\n",
            "        -1.0       0.69      1.00      0.82        18\n",
            "         1.0       1.00      0.33      0.50        12\n",
            "\n",
            "    accuracy                           0.73        30\n",
            "   macro avg       0.85      0.67      0.66        30\n",
            "weighted avg       0.82      0.73      0.69        30\n",
            "\n"
          ]
        }
      ]
    },
    {
      "cell_type": "code",
      "metadata": {
        "id": "CEl8NWpeGE_-"
      },
      "source": [
        "#Note that Iris data has three labels 0, 1 and 2. In the code above, \n",
        "#we have considered label 1 as class 1 and other two labels as class -1. \n",
        "\n",
        "#Exercise 1: \n",
        "#Now, modify the code so that label 0 is considered as class 1 and \n",
        "#other labels are considered as class -1.\n",
        "#Consider the same setup as used in the code above,\n",
        "#where we take first 80% as train data, and remaining 20% as test data \n",
        "#Train the svm using only the train features and labels. \n",
        "#Find the test set accuracy and train set accuracy and report them.\n",
        "\n",
        "#Exercise 2: \n",
        "#Modify the code so that label 2 is considered as class 1 and \n",
        "#other labels are considered as class -1. \n",
        "#Consider the same setup as used in the code above,\n",
        "#where we take first 80% as train data, and remaining 20% as test data \n",
        "#Train the decision tree using only the train features and labels. \n",
        "#Find the test accuracy and train accuracy and report them."
      ],
      "execution_count": null,
      "outputs": []
    },
    {
      "cell_type": "code",
      "metadata": {
        "id": "TZCoXviDGKit"
      },
      "source": [
        ""
      ],
      "execution_count": null,
      "outputs": []
    }
  ]
}
