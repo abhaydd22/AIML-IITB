{
  "nbformat": 4,
  "nbformat_minor": 0,
  "metadata": {
    "colab": {
      "name": "NaiveBayesClassifier_AIML_CEP_31Oct2021_7Nov2021.ipynb",
      "provenance": [],
      "authorship_tag": "ABX9TyP02UlMCa0Gaeq2ePffqJ+V",
      "include_colab_link": true
    },
    "kernelspec": {
      "name": "python3",
      "display_name": "Python 3"
    },
    "language_info": {
      "name": "python"
    }
  },
  "cells": [
    {
      "cell_type": "markdown",
      "metadata": {
        "id": "view-in-github",
        "colab_type": "text"
      },
      "source": [
        "<a href=\"https://colab.research.google.com/github/balamurugan-palaniappan-CEP/AIML_CEP_2021/blob/main/Naive%20Bayes/NaiveBayesClassifier_AIML_CEP_31Oct2021_7Nov2021.ipynb\" target=\"_parent\"><img src=\"https://colab.research.google.com/assets/colab-badge.svg\" alt=\"Open In Colab\"/></a>"
      ]
    },
    {
      "cell_type": "markdown",
      "metadata": {
        "id": "1EtzXk1rUIaB"
      },
      "source": [
        "$\\large{\\text{Naive Bayes Classifier}}$\n",
        "\n",
        "Consider the data set as given below.\n",
        "\n"
      ]
    },
    {
      "cell_type": "code",
      "metadata": {
        "colab": {
          "base_uri": "https://localhost:8080/",
          "height": 300
        },
        "id": "rFDMl2ASWIcJ",
        "outputId": "eb37d12b-1e51-44d8-a197-9f80e8486b0d"
      },
      "source": [
        "#First, we import the required packages\n",
        "import pandas as pd #the pandas library is useful for data processing \n",
        "import matplotlib.pyplot as plt #the matplotlib library is useful for plotting purposes\n",
        "\n",
        "#Get the data from the csv file \n",
        "sample_data = pd.read_csv('dataset.csv', index_col=False)\n",
        "\n",
        "#print the data \n",
        "sample_data\n"
      ],
      "execution_count": null,
      "outputs": [
        {
          "output_type": "execute_result",
          "data": {
            "text/html": [
              "<div>\n",
              "<style scoped>\n",
              "    .dataframe tbody tr th:only-of-type {\n",
              "        vertical-align: middle;\n",
              "    }\n",
              "\n",
              "    .dataframe tbody tr th {\n",
              "        vertical-align: top;\n",
              "    }\n",
              "\n",
              "    .dataframe thead th {\n",
              "        text-align: right;\n",
              "    }\n",
              "</style>\n",
              "<table border=\"1\" class=\"dataframe\">\n",
              "  <thead>\n",
              "    <tr style=\"text-align: right;\">\n",
              "      <th></th>\n",
              "      <th>Temp gt 100</th>\n",
              "      <th>Travel to foreign country</th>\n",
              "      <th>Cough</th>\n",
              "      <th>Antibodies in blood</th>\n",
              "      <th>Disease presence</th>\n",
              "    </tr>\n",
              "  </thead>\n",
              "  <tbody>\n",
              "    <tr>\n",
              "      <th>0</th>\n",
              "      <td>Yes</td>\n",
              "      <td>Yes</td>\n",
              "      <td>No</td>\n",
              "      <td>Yes</td>\n",
              "      <td>Yes</td>\n",
              "    </tr>\n",
              "    <tr>\n",
              "      <th>1</th>\n",
              "      <td>No</td>\n",
              "      <td>Yes</td>\n",
              "      <td>Yes</td>\n",
              "      <td>Yes</td>\n",
              "      <td>Yes</td>\n",
              "    </tr>\n",
              "    <tr>\n",
              "      <th>2</th>\n",
              "      <td>Yes</td>\n",
              "      <td>No</td>\n",
              "      <td>Yes</td>\n",
              "      <td>No</td>\n",
              "      <td>Yes</td>\n",
              "    </tr>\n",
              "    <tr>\n",
              "      <th>3</th>\n",
              "      <td>Yes</td>\n",
              "      <td>No</td>\n",
              "      <td>Yes</td>\n",
              "      <td>Yes</td>\n",
              "      <td>Yes</td>\n",
              "    </tr>\n",
              "    <tr>\n",
              "      <th>4</th>\n",
              "      <td>No</td>\n",
              "      <td>No</td>\n",
              "      <td>No</td>\n",
              "      <td>Yes</td>\n",
              "      <td>No</td>\n",
              "    </tr>\n",
              "    <tr>\n",
              "      <th>5</th>\n",
              "      <td>No</td>\n",
              "      <td>Yes</td>\n",
              "      <td>Yes</td>\n",
              "      <td>No</td>\n",
              "      <td>No</td>\n",
              "    </tr>\n",
              "    <tr>\n",
              "      <th>6</th>\n",
              "      <td>No</td>\n",
              "      <td>Yes</td>\n",
              "      <td>No</td>\n",
              "      <td>Yes</td>\n",
              "      <td>No</td>\n",
              "    </tr>\n",
              "    <tr>\n",
              "      <th>7</th>\n",
              "      <td>Yes</td>\n",
              "      <td>Yes</td>\n",
              "      <td>No</td>\n",
              "      <td>No</td>\n",
              "      <td>No</td>\n",
              "    </tr>\n",
              "  </tbody>\n",
              "</table>\n",
              "</div>"
            ],
            "text/plain": [
              "  Temp gt 100 Travel to foreign country  ... Antibodies in blood Disease presence\n",
              "0         Yes                       Yes  ...                 Yes              Yes\n",
              "1          No                       Yes  ...                 Yes              Yes\n",
              "2         Yes                        No  ...                  No              Yes\n",
              "3         Yes                        No  ...                 Yes              Yes\n",
              "4          No                        No  ...                 Yes               No\n",
              "5          No                       Yes  ...                  No               No\n",
              "6          No                       Yes  ...                 Yes               No\n",
              "7         Yes                       Yes  ...                  No               No\n",
              "\n",
              "[8 rows x 5 columns]"
            ]
          },
          "metadata": {},
          "execution_count": 6
        }
      ]
    },
    {
      "cell_type": "markdown",
      "metadata": {
        "id": "VFccD-rzW11q"
      },
      "source": [
        "Now suppose we have the observation $x$ given by  \n",
        "\n",
        "$(\\text{Temp gt 100=Yes, Travel to foreign country=Yes, Cough = Yes, Antibodies in blood= Yes})$, \n",
        "\n",
        "then how do we classify $x$ into the Disease presence category? \n",
        "\n",
        "Consider $X$ to be a random variable of which $x$ is an observation. \n",
        "\n",
        "Suppose $Y$ denotes the random variable associated with the Disease presence category, then the problem of finding the Disease presence category can be cast as finding the conditional probability of class label $P(Y=\\text{Yes}|X=x)$ and the conditional probability $P(Y=\\text{No}|X=x)$. \n",
        "\n",
        "To find these conditional probabilities, we shall use the famous $\\textbf{Bayes' theorem}$ idea."
      ]
    },
    {
      "cell_type": "markdown",
      "metadata": {
        "id": "5W75uuFBX-iu"
      },
      "source": [
        "$\\large{\\text{Bayes' Theorem}}$ \n",
        "\n",
        "The conditional probability $P(Y|X)$ can be written as:\n",
        "\n",
        "$\\begin{align}\n",
        "P(Y|X) = \\frac{P(Y,X)}{P(X)}.\n",
        "\\end{align}\n",
        "$\n",
        "\n",
        "Since we know that $P(X|Y) = \\frac{P(X,Y)}{P(Y)}$, and since the $\\textbf{joint probability}$ $P(X,Y)$ is the same as $\\text{joint probability}$ $P(Y,X)$, we can write: \n",
        "\n",
        "$P(Y,X) = P(X|Y) P(Y)$. \n",
        "\n",
        "Substituting $P(Y,X)$ in the previous conditional probability $P(Y|X)$, we have:\n",
        "\n",
        "$\\begin{align}\n",
        "P(Y|X) = \\frac{P(Y,X)}{P(X)} = \\frac{P(X|Y)P(Y)}{P(X)}. \n",
        "\\end{align}\n",
        "$\n",
        "\n",
        "Thus the $\\textbf{posterior probability}$ $P(Y|X)$ of observing $Y$ after receiving $X$ can be seen to be proportional to the product of the $\\textbf{likelihood}$ term $P(X|Y)$ and the $\\textbf{prior probability}$ $P(Y)$ of $Y$. \n",
        "\n",
        "$P(X)$ is a $\\textbf{normalization}$ factor and is usually a constant for any value of the observation of $Y$. \n",
        "\n",
        "Hence we may write $P(Y|X) \\propto P(X|Y)P(Y)$. \n"
      ]
    },
    {
      "cell_type": "markdown",
      "metadata": {
        "id": "_qA2RQlaaN4k"
      },
      "source": [
        "Hence using Bayes' Theorem we can write: \n",
        "\n",
        "$P(Y=\\text{Yes}|X=x) \\propto P(X=x|Y=\\text{Yes}) P(Y=\\text{Yes})$. \n",
        "\n",
        "and\n",
        "\n",
        "$P(Y=\\text{No}|X=x) \\propto P(X=x|Y=\\text{No}) P(Y=\\text{No})$.\n",
        "\n",
        "$\\textbf{Question:}$ How do we compute the prior probabilities $P(Y=\\text{Yes})$, $P(Y=\\text{No})$ and the likelihood terms $P(X=x|Y=\\text{Yes})$, $P(X=x|Y=\\text{No})$?\n"
      ]
    },
    {
      "cell_type": "markdown",
      "metadata": {
        "id": "m0opoGwcbOLs"
      },
      "source": [
        "$\\textbf{Idea:}$\n",
        "\n",
        "Use the training data to get the required probabilities."
      ]
    },
    {
      "cell_type": "markdown",
      "metadata": {
        "id": "Xxyu1rDabYxs"
      },
      "source": [
        "$\\textbf{Computing the prior probabilities}$ \n",
        "\n",
        "Let us relook at the data at hand. Then we can use a frequency based computation for prior probabilities $P(Y=\\text{Yes})$ and $P(Y=\\text{No})$. "
      ]
    },
    {
      "cell_type": "code",
      "metadata": {
        "colab": {
          "base_uri": "https://localhost:8080/"
        },
        "id": "pZhpXdiqmnRv",
        "outputId": "77246005-2ddf-4c03-be0c-589dea37709a"
      },
      "source": [
        "#print the labels\n",
        "sample_data['Disease presence']\n"
      ],
      "execution_count": null,
      "outputs": [
        {
          "output_type": "execute_result",
          "data": {
            "text/plain": [
              "0    Yes\n",
              "1    Yes\n",
              "2    Yes\n",
              "3    Yes\n",
              "4     No\n",
              "5     No\n",
              "6     No\n",
              "7     No\n",
              "Name: Disease presence, dtype: object"
            ]
          },
          "metadata": {},
          "execution_count": 7
        }
      ]
    },
    {
      "cell_type": "markdown",
      "metadata": {
        "id": "zfoSKucWnEj1"
      },
      "source": [
        "We note that out of the $8$ samples, $Y=\\text{Yes}$ appears $4$ times and $Y=\\text{No}$ appears $4$ times. \n",
        "\n",
        "Hence we can write: \n",
        "\n",
        "$P(Y=\\text{Yes}) = \\frac{4}{8} = 0.5$ and $P(Y=\\text{No}) = \\frac{4}{8} = 0.5$. \n"
      ]
    },
    {
      "cell_type": "markdown",
      "metadata": {
        "id": "j32gSRB0ngCJ"
      },
      "source": [
        "$\\textbf{How to compute P(X=x|Y=y)}$?\n",
        "\n",
        "Note that in our case $X$ is multi-dimensional attribute of the form $X=(X_1,X_2,X_3,X_4)$ where:\n",
        "\n",
        "\n",
        "*   $X_1$ is the random variable associated with $\\texttt{Temp gt 100}$\n",
        "*   $X_2$ is the random variable associated with $\\texttt{Travel to foreign country}$\n",
        "*   $X_3$ is the random variable associated with $\\texttt{Cough}$\n",
        "*   $X_4$ is the random variable associated with $\\texttt{Antibodies in blood}$\n",
        "\n",
        "Similarly, an observation $x$ of $X$ is also multi-variate and is of the form $x=(x_1,x_2,x_3,x_4)$. \n",
        "\n",
        "Thus $P(X=x|Y=y)$ can be equivalently written as: $P( (X_1,X_2,X_3,X_4) = (x_1,x_2,x_3,x_4)|Y=y)$. \n",
        "\n",
        "Hence given an observation $x=(x_1,x_2,x_3,x_4)$ of $X=(X_1,X_2,X_3,X_4)$ how do we find the conditional probability $P((X_1,X_2,X_3,X_4)=(x_1,x_2,x_3,x_4)|Y=y)$? \n"
      ]
    },
    {
      "cell_type": "markdown",
      "metadata": {
        "id": "3iTENSRhosS-"
      },
      "source": [
        "$\\textbf{Conditional Independence Assumption}$ \n",
        "\n",
        "In Naive Bayes classifier, we make an important assumption about the data. \n",
        "\n",
        "That is the covariates (or) attributes are conditionally independent given the class label. \n",
        "\n",
        "This assumption is called the conditional independence assumption. \n",
        "\n",
        "Using the conditional independence assumption, we can write: \n",
        "\n",
        "$\n",
        "\\begin{align}\n",
        "P( (X_1,X_2,X_3,X_4) = (x_1,x_2,x_3,x_4) | Y=y) = \\prod_{i=1}^{4} P(X_i=x_i|Y=y).\n",
        "\\end{align}\n",
        "$\n",
        "\n",
        "Now finding $P( (X_1,X_2,X_3,X_4) = (x_1,x_2,x_3,x_4) | Y=y)$ boils down to finding $P(X_i=x_i|Y=y)$ for $i=1,2,3,4$. "
      ]
    },
    {
      "cell_type": "markdown",
      "metadata": {
        "id": "DGdS5zSNpu6_"
      },
      "source": [
        "$\\textbf{Question:}$ How do we find $P(X_i=x_i|Y=\\text{Yes})$ and $P(X_i=x_i|Y=\\text{No})$?"
      ]
    },
    {
      "cell_type": "code",
      "metadata": {
        "id": "I0EedpYtmxIJ"
      },
      "source": [
        ""
      ],
      "execution_count": null,
      "outputs": []
    },
    {
      "cell_type": "markdown",
      "metadata": {
        "id": "jF0CXonEp6Jk"
      },
      "source": [
        "$\\textbf{Idea:}$ \n",
        "\n",
        "Use the training data.  "
      ]
    },
    {
      "cell_type": "markdown",
      "metadata": {
        "id": "YShxL_bFqArH"
      },
      "source": [
        "$\\textbf{Note:}$ Luckily, each $X_i$ in the data is discrete-valued and hence finding the probabilities would be easy. "
      ]
    },
    {
      "cell_type": "markdown",
      "metadata": {
        "id": "rT27XssYqLa8"
      },
      "source": [
        "$\\textbf{Recall:}$\n",
        "\n",
        "The observation $x$ is given by  \n",
        "\n",
        "$(\\text{Temp gt 100=Yes, Travel to foreign country=Yes, Cough = Yes, Antibodies in blood= Yes})$. \n",
        "\n",
        "Let us now compute $P(X_1 = \\text{Yes}|Y=\\text{Yes})$. \n",
        "\n",
        "We shall look into the data. "
      ]
    },
    {
      "cell_type": "code",
      "metadata": {
        "colab": {
          "base_uri": "https://localhost:8080/",
          "height": 174
        },
        "id": "42Vy_f7Qp-_5",
        "outputId": "88ef6cda-d94e-4b9d-aeb7-32f030d07117"
      },
      "source": [
        "#print the column 'Temp gt 100' along with label 'Yes'\n",
        "(sample_data.loc[sample_data['Disease presence'] == 'Yes'])[['Temp gt 100', 'Disease presence']]"
      ],
      "execution_count": null,
      "outputs": [
        {
          "output_type": "execute_result",
          "data": {
            "text/html": [
              "<div>\n",
              "<style scoped>\n",
              "    .dataframe tbody tr th:only-of-type {\n",
              "        vertical-align: middle;\n",
              "    }\n",
              "\n",
              "    .dataframe tbody tr th {\n",
              "        vertical-align: top;\n",
              "    }\n",
              "\n",
              "    .dataframe thead th {\n",
              "        text-align: right;\n",
              "    }\n",
              "</style>\n",
              "<table border=\"1\" class=\"dataframe\">\n",
              "  <thead>\n",
              "    <tr style=\"text-align: right;\">\n",
              "      <th></th>\n",
              "      <th>Temp gt 100</th>\n",
              "      <th>Disease presence</th>\n",
              "    </tr>\n",
              "  </thead>\n",
              "  <tbody>\n",
              "    <tr>\n",
              "      <th>0</th>\n",
              "      <td>Yes</td>\n",
              "      <td>Yes</td>\n",
              "    </tr>\n",
              "    <tr>\n",
              "      <th>1</th>\n",
              "      <td>No</td>\n",
              "      <td>Yes</td>\n",
              "    </tr>\n",
              "    <tr>\n",
              "      <th>2</th>\n",
              "      <td>Yes</td>\n",
              "      <td>Yes</td>\n",
              "    </tr>\n",
              "    <tr>\n",
              "      <th>3</th>\n",
              "      <td>Yes</td>\n",
              "      <td>Yes</td>\n",
              "    </tr>\n",
              "  </tbody>\n",
              "</table>\n",
              "</div>"
            ],
            "text/plain": [
              "  Temp gt 100 Disease presence\n",
              "0         Yes              Yes\n",
              "1          No              Yes\n",
              "2         Yes              Yes\n",
              "3         Yes              Yes"
            ]
          },
          "metadata": {},
          "execution_count": 14
        }
      ]
    },
    {
      "cell_type": "markdown",
      "metadata": {
        "id": "bzn40scUsALr"
      },
      "source": [
        "Thus from the above data we can compute: \n",
        "\n",
        "$P(X_1=\\text{Yes}|Y=\\text{Yes}) = \\frac{3}{4} = 0.75$.  "
      ]
    },
    {
      "cell_type": "code",
      "metadata": {
        "id": "KwybegwGqpOA"
      },
      "source": [
        ""
      ],
      "execution_count": null,
      "outputs": []
    },
    {
      "cell_type": "markdown",
      "metadata": {
        "id": "_rR6bwgYsQSP"
      },
      "source": [
        "Let us now compute $P(X_2 = \\text{Yes}|Y=\\text{Yes})$. \n",
        "\n",
        "We shall look into the data. "
      ]
    },
    {
      "cell_type": "code",
      "metadata": {
        "colab": {
          "base_uri": "https://localhost:8080/",
          "height": 174
        },
        "id": "D39b3PgVsUNH",
        "outputId": "f7f6f1d8-90e6-41fc-e641-59e3a2b42ab0"
      },
      "source": [
        "#print the column 'Travel to foreign country' along with label 'Yes'\n",
        "(sample_data.loc[sample_data['Disease presence'] == 'Yes'])[['Travel to foreign country', 'Disease presence']]"
      ],
      "execution_count": null,
      "outputs": [
        {
          "output_type": "execute_result",
          "data": {
            "text/html": [
              "<div>\n",
              "<style scoped>\n",
              "    .dataframe tbody tr th:only-of-type {\n",
              "        vertical-align: middle;\n",
              "    }\n",
              "\n",
              "    .dataframe tbody tr th {\n",
              "        vertical-align: top;\n",
              "    }\n",
              "\n",
              "    .dataframe thead th {\n",
              "        text-align: right;\n",
              "    }\n",
              "</style>\n",
              "<table border=\"1\" class=\"dataframe\">\n",
              "  <thead>\n",
              "    <tr style=\"text-align: right;\">\n",
              "      <th></th>\n",
              "      <th>Travel to foreign country</th>\n",
              "      <th>Disease presence</th>\n",
              "    </tr>\n",
              "  </thead>\n",
              "  <tbody>\n",
              "    <tr>\n",
              "      <th>0</th>\n",
              "      <td>Yes</td>\n",
              "      <td>Yes</td>\n",
              "    </tr>\n",
              "    <tr>\n",
              "      <th>1</th>\n",
              "      <td>Yes</td>\n",
              "      <td>Yes</td>\n",
              "    </tr>\n",
              "    <tr>\n",
              "      <th>2</th>\n",
              "      <td>No</td>\n",
              "      <td>Yes</td>\n",
              "    </tr>\n",
              "    <tr>\n",
              "      <th>3</th>\n",
              "      <td>No</td>\n",
              "      <td>Yes</td>\n",
              "    </tr>\n",
              "  </tbody>\n",
              "</table>\n",
              "</div>"
            ],
            "text/plain": [
              "  Travel to foreign country Disease presence\n",
              "0                       Yes              Yes\n",
              "1                       Yes              Yes\n",
              "2                        No              Yes\n",
              "3                        No              Yes"
            ]
          },
          "metadata": {},
          "execution_count": 15
        }
      ]
    },
    {
      "cell_type": "markdown",
      "metadata": {
        "id": "rWZGcH-9sc_d"
      },
      "source": [
        "Thus from the above data we can compute: \n",
        "\n",
        "$P(X_2=\\text{Yes}|Y=\\text{Yes}) = \\frac{2}{4} = 0.5$.  "
      ]
    },
    {
      "cell_type": "code",
      "metadata": {
        "id": "hQa0l2aYsZJ-"
      },
      "source": [
        ""
      ],
      "execution_count": null,
      "outputs": []
    },
    {
      "cell_type": "markdown",
      "metadata": {
        "id": "kQKAUz31shyE"
      },
      "source": [
        "Let us now compute $P(X_3 = \\text{Yes}|Y=\\text{Yes})$. \n",
        "\n",
        "We shall look into the data. "
      ]
    },
    {
      "cell_type": "code",
      "metadata": {
        "colab": {
          "base_uri": "https://localhost:8080/",
          "height": 174
        },
        "id": "m00d8j8psi50",
        "outputId": "263da69f-061a-40fb-9f40-69367c729b0d"
      },
      "source": [
        "#print the column 'Cough' along with label 'Yes'\n",
        "(sample_data.loc[sample_data['Disease presence'] == 'Yes'])[['Cough', 'Disease presence']]"
      ],
      "execution_count": null,
      "outputs": [
        {
          "output_type": "execute_result",
          "data": {
            "text/html": [
              "<div>\n",
              "<style scoped>\n",
              "    .dataframe tbody tr th:only-of-type {\n",
              "        vertical-align: middle;\n",
              "    }\n",
              "\n",
              "    .dataframe tbody tr th {\n",
              "        vertical-align: top;\n",
              "    }\n",
              "\n",
              "    .dataframe thead th {\n",
              "        text-align: right;\n",
              "    }\n",
              "</style>\n",
              "<table border=\"1\" class=\"dataframe\">\n",
              "  <thead>\n",
              "    <tr style=\"text-align: right;\">\n",
              "      <th></th>\n",
              "      <th>Cough</th>\n",
              "      <th>Disease presence</th>\n",
              "    </tr>\n",
              "  </thead>\n",
              "  <tbody>\n",
              "    <tr>\n",
              "      <th>0</th>\n",
              "      <td>No</td>\n",
              "      <td>Yes</td>\n",
              "    </tr>\n",
              "    <tr>\n",
              "      <th>1</th>\n",
              "      <td>Yes</td>\n",
              "      <td>Yes</td>\n",
              "    </tr>\n",
              "    <tr>\n",
              "      <th>2</th>\n",
              "      <td>Yes</td>\n",
              "      <td>Yes</td>\n",
              "    </tr>\n",
              "    <tr>\n",
              "      <th>3</th>\n",
              "      <td>Yes</td>\n",
              "      <td>Yes</td>\n",
              "    </tr>\n",
              "  </tbody>\n",
              "</table>\n",
              "</div>"
            ],
            "text/plain": [
              "  Cough Disease presence\n",
              "0    No              Yes\n",
              "1   Yes              Yes\n",
              "2   Yes              Yes\n",
              "3   Yes              Yes"
            ]
          },
          "metadata": {},
          "execution_count": 16
        }
      ]
    },
    {
      "cell_type": "markdown",
      "metadata": {
        "id": "Qw4rW-ycsuPF"
      },
      "source": [
        "Thus from the above data we can compute: \n",
        "\n",
        "$P(X_3=\\text{Yes}|Y=\\text{Yes}) = \\frac{3}{4} = 0.75$. "
      ]
    },
    {
      "cell_type": "code",
      "metadata": {
        "id": "5X9yziMQsquF"
      },
      "source": [
        ""
      ],
      "execution_count": null,
      "outputs": []
    },
    {
      "cell_type": "markdown",
      "metadata": {
        "id": "VPRdq7X-sz_C"
      },
      "source": [
        "Let us now compute $P(X_4 = \\text{Yes}|Y=\\text{Yes})$. \n",
        "\n",
        "We shall look into the data. "
      ]
    },
    {
      "cell_type": "code",
      "metadata": {
        "colab": {
          "base_uri": "https://localhost:8080/",
          "height": 174
        },
        "id": "8fufnnKfs3kl",
        "outputId": "d6846789-4d65-42b4-a968-403d3fc6fed1"
      },
      "source": [
        "#print the column 'Antibodies in blood' along with label 'Yes'\n",
        "(sample_data.loc[sample_data['Disease presence'] == 'Yes'])[['Antibodies in blood', 'Disease presence']]"
      ],
      "execution_count": null,
      "outputs": [
        {
          "output_type": "execute_result",
          "data": {
            "text/html": [
              "<div>\n",
              "<style scoped>\n",
              "    .dataframe tbody tr th:only-of-type {\n",
              "        vertical-align: middle;\n",
              "    }\n",
              "\n",
              "    .dataframe tbody tr th {\n",
              "        vertical-align: top;\n",
              "    }\n",
              "\n",
              "    .dataframe thead th {\n",
              "        text-align: right;\n",
              "    }\n",
              "</style>\n",
              "<table border=\"1\" class=\"dataframe\">\n",
              "  <thead>\n",
              "    <tr style=\"text-align: right;\">\n",
              "      <th></th>\n",
              "      <th>Antibodies in blood</th>\n",
              "      <th>Disease presence</th>\n",
              "    </tr>\n",
              "  </thead>\n",
              "  <tbody>\n",
              "    <tr>\n",
              "      <th>0</th>\n",
              "      <td>Yes</td>\n",
              "      <td>Yes</td>\n",
              "    </tr>\n",
              "    <tr>\n",
              "      <th>1</th>\n",
              "      <td>Yes</td>\n",
              "      <td>Yes</td>\n",
              "    </tr>\n",
              "    <tr>\n",
              "      <th>2</th>\n",
              "      <td>No</td>\n",
              "      <td>Yes</td>\n",
              "    </tr>\n",
              "    <tr>\n",
              "      <th>3</th>\n",
              "      <td>Yes</td>\n",
              "      <td>Yes</td>\n",
              "    </tr>\n",
              "  </tbody>\n",
              "</table>\n",
              "</div>"
            ],
            "text/plain": [
              "  Antibodies in blood Disease presence\n",
              "0                 Yes              Yes\n",
              "1                 Yes              Yes\n",
              "2                  No              Yes\n",
              "3                 Yes              Yes"
            ]
          },
          "metadata": {},
          "execution_count": 17
        }
      ]
    },
    {
      "cell_type": "markdown",
      "metadata": {
        "id": "459TagVVtADN"
      },
      "source": [
        "Thus from the above data we can compute: \n",
        "\n",
        "$P(X_4=\\text{Yes}|Y=\\text{Yes}) = \\frac{3}{4} = 0.75$. \n"
      ]
    },
    {
      "cell_type": "markdown",
      "metadata": {
        "id": "VPsRfdMLtA9b"
      },
      "source": [
        "Now that we have computed all relevant probabilities, we can compute \n",
        "$P((X_1,X_2,X_3,X_4)=(\\text{Yes,Yes,Yes,Yes})|Y=\\text{Yes}) = \\prod_{i=1}^{4} P(X_i = \\text{Yes}|Y=\\text{Yes})$. \n",
        "\n",
        "Thus $P((X_1,X_2,X_3,X_4)=(\\text{Yes,Yes,Yes,Yes})|Y=\\text{Yes}) = 0.75 \\times 0.5 \\times 0.75 \\times 0.75 = 0.2109375$. "
      ]
    },
    {
      "cell_type": "code",
      "metadata": {
        "id": "sItDpJ9Ks8gb"
      },
      "source": [
        ""
      ],
      "execution_count": null,
      "outputs": []
    },
    {
      "cell_type": "markdown",
      "metadata": {
        "id": "Hdxo8LSatvuU"
      },
      "source": [
        "Similarly, we can compute $P((X_1,X_2,X_3,X_4)=(\\text{Yes,Yes,Yes,Yes})|Y=\\text{No}) = \\prod_{i=1}^{4} P(X_i = \\text{Yes}|Y=\\text{No})$. \n",
        "\n",
        "$\\textbf{Exercise:}$ Find  $P((X_1,X_2,X_3,X_4)=(\\text{Yes,Yes,Yes,Yes})|Y=\\text{No})$. "
      ]
    },
    {
      "cell_type": "markdown",
      "metadata": {
        "id": "cYp_M3EkuIKa"
      },
      "source": [
        "Now we can compute $P(Y=\\text{Yes}|X=x)$ as a quantity proportional to $P(X=x|Y=\\text{Yes}) P(Y=\\text{Yes}) = 0.2109375 \\times 0.5$. \n",
        "\n",
        "Also similarly, we can compute $P(Y=\\text{No}|X=x)$ as a quantity proportional to $P(X=x|Y=\\text{No}) P(Y=\\text{No.})$. \n",
        "\n",
        "$\\textbf{Exercise:}$ Compute $P(Y=\\text{No}|X=x)$. \n",
        "\n",
        "Having computed the posterior probabilities for $Y=\\text{Yes}$ label and $Y=\\text{No}$ label, we can compare them and assign a label which has the maximimum posterior probability. \n",
        "\n",
        "$\\textbf{Exercise:}$ What is the label predicted for observation $x$? \n"
      ]
    },
    {
      "cell_type": "code",
      "metadata": {
        "id": "zcpn-2_Cuu6n"
      },
      "source": [
        ""
      ],
      "execution_count": null,
      "outputs": []
    },
    {
      "cell_type": "markdown",
      "metadata": {
        "id": "6Lk2ptS6wF1Q"
      },
      "source": [
        "$\\textbf{Question:}$ How to deal with Continuous attributes? "
      ]
    },
    {
      "cell_type": "code",
      "metadata": {
        "id": "NgejYoqGwX1g"
      },
      "source": [
        ""
      ],
      "execution_count": null,
      "outputs": []
    },
    {
      "cell_type": "markdown",
      "metadata": {
        "id": "qChiyedEwYV3"
      },
      "source": [
        "$\\textbf{Idea:}$ Assume that the column containing continuous data has a Gaussian distribution. \n",
        "\n",
        "Hence $P(X_i=x_i|Y=y_j)$ can be characterized as $f(x_i; \\mu_{ij},\\sigma^2_{ij}) = \\frac{1}{\\sqrt{2\\pi}\\sigma_{ij}}  e^{-\\frac{(x_i-\\mu_{ij})^2}{2\\sigma_{ij}^2}}$. \n",
        "\n",
        "The mean $\\mu_{ij}$ and variance $\\sigma_{ij}$ are estimated from data corresponding to $X_i=x_i$ and $Y=y_j$.\n",
        "\n",
        "Ideally we would be computing $P(x_i \\leq X_i \\leq x_i + \\epsilon|Y=y_j)$. \n",
        "\n",
        "This would yield a quantity $P(x_i \\leq X_i \\leq x_i + \\epsilon|Y=y_j) \\approx \\epsilon f(x_i; \\mu_{ij},\\sigma^2_{ij})$. \n",
        "\n",
        "Since $\\epsilon$ is constant for each class, during the comparative analysis of the posterior probabilities, the effect of $\\epsilon$ will be effectively ignored. "
      ]
    },
    {
      "cell_type": "code",
      "metadata": {
        "id": "suiXvOCOx8QS"
      },
      "source": [
        ""
      ],
      "execution_count": null,
      "outputs": []
    },
    {
      "cell_type": "markdown",
      "metadata": {
        "id": "UANb1W2Mdi9S"
      },
      "source": [
        "$\\large{\\text{Some notable features of Naive Bayes Classifier}}$\n",
        "\n",
        "\n",
        "\n",
        "1.   $\\textbf{Smoothing of noisy attributes:}$ Can Naive Bayes classifier deal with noise in attribute? \n",
        "2.   $\\textbf{Dealing with irrelevant attributes:}$ For attribute $X$ which might not be relevant to prediction of class label $Y$, how will $P(Y|X)$ look like? What impact does it have?\n",
        "3.  $\\textbf{Dealing with correlated attributes:}$ Can Naive Bayes classifier handle correlated attributes? \n",
        "\n",
        "\n",
        "\n"
      ]
    },
    {
      "cell_type": "markdown",
      "metadata": {
        "id": "1V_0tW_ZNVPx"
      },
      "source": [
        "$\\large{\\text{Exercise}}$\n",
        "\n",
        "Suppose the attribute column $\\texttt{Temp gt 100}$ is replaced with $\\texttt{Temperature}$ attribute column with the values $(100.3, 98.6, 100.5, 99.5, 101.01, 98.3, 99.5, 100.2)$. Find the posterior probabilities \n",
        "\n",
        "\n",
        "\n",
        "*   $P(Y=\\text{Yes}|X=(Yes, No, No, Yes))$ and $P(Y=\\text{No}|X=(Yes, No, No, Yes))$. \n",
        "*   $P(Y=\\text{Yes}|X=(No, Yes, No, No))$ and $P(Y=\\text{No}|X=(No, Yes, No, No))$. \n"
      ]
    },
    {
      "cell_type": "code",
      "metadata": {
        "id": "b9pLAsRSfZp6"
      },
      "source": [
        ""
      ],
      "execution_count": null,
      "outputs": []
    }
  ]
}