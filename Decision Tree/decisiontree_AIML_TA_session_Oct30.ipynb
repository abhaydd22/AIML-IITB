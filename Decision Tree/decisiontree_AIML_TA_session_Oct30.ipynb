{
  "nbformat": 4,
  "nbformat_minor": 0,
  "metadata": {
    "kernelspec": {
      "display_name": "Python 3",
      "language": "python",
      "name": "python3"
    },
    "language_info": {
      "codemirror_mode": {
        "name": "ipython",
        "version": 3
      },
      "file_extension": ".py",
      "mimetype": "text/x-python",
      "name": "python",
      "nbconvert_exporter": "python",
      "pygments_lexer": "ipython3",
      "version": "3.6.5"
    },
    "colab": {
      "name": "decisiontree_AIML_TA_session_Oct30.ipynb",
      "provenance": [],
      "collapsed_sections": [],
      "include_colab_link": true
    }
  },
  "cells": [
    {
      "cell_type": "markdown",
      "metadata": {
        "id": "view-in-github",
        "colab_type": "text"
      },
      "source": [
        "<a href=\"https://colab.research.google.com/github/balamurugan-palaniappan-CEP/AIML_CEP_2021/blob/main/decisiontree_AIML_TA_session_Oct30.ipynb\" target=\"_parent\"><img src=\"https://colab.research.google.com/assets/colab-badge.svg\" alt=\"Open In Colab\"/></a>"
      ]
    },
    {
      "cell_type": "code",
      "metadata": {
        "colab": {
          "base_uri": "https://localhost:8080/"
        },
        "id": "Xx5Nhfce1T6c",
        "outputId": "37606186-c73f-4561-eb6a-bf379fba77db"
      },
      "source": [
        "import numpy as np\n",
        "#for the following statement to compile successfully, you need the scikit-learn package. \n",
        "\n",
        "from sklearn.datasets import load_digits #for loading digits dataset\n",
        "from sklearn import tree #decision tree from scikit learn \n",
        "\n",
        "np.random.seed(1000) #for reproducibility\n",
        "digits = load_digits()\n",
        "#check the shape of digits data features\n",
        "print('digits data shape:', digits.data.shape)\n",
        "A = digits.data\n",
        "#check the shape of digits target labels\n",
        "print('digits target shape:', digits.target.shape)\n",
        "#We can print first 5 samples of digits data and check \n",
        "print('Features of first five samples of digits data:')\n",
        "print(A[:,])"
      ],
      "execution_count": null,
      "outputs": [
        {
          "output_type": "stream",
          "name": "stdout",
          "text": [
            "digits data shape: (1797, 64)\n",
            "digits target shape: (1797,)\n",
            "Features of first five samples of digits data:\n",
            "[[ 0.  0.  5. ...  0.  0.  0.]\n",
            " [ 0.  0.  0. ... 10.  0.  0.]\n",
            " [ 0.  0.  0. ... 16.  9.  0.]\n",
            " ...\n",
            " [ 0.  0.  1. ...  6.  0.  0.]\n",
            " [ 0.  0.  2. ... 12.  0.  0.]\n",
            " [ 0.  0. 10. ... 12.  1.  0.]]\n"
          ]
        }
      ]
    },
    {
      "cell_type": "code",
      "metadata": {
        "colab": {
          "base_uri": "https://localhost:8080/"
        },
        "id": "FsEwI32f1T6z",
        "outputId": "462c736e-1b77-4450-b2a5-3e23cd3007ce"
      },
      "source": [
        "#How many labels does digits data have? \n",
        "#print the unique classes\n",
        "print('unique classes: ',np.unique(digits.target))\n",
        "n = digits.data.shape[0] #Number of data points or samples \n",
        "d = digits.data.shape[1] #Dimension of data points"
      ],
      "execution_count": null,
      "outputs": [
        {
          "output_type": "stream",
          "name": "stdout",
          "text": [
            "unique classes:  [0 1 2 3 4 5 6 7 8 9]\n"
          ]
        }
      ]
    },
    {
      "cell_type": "code",
      "metadata": {
        "id": "zrxWqF2Y1T62"
      },
      "source": [
        "#In the following code, we create a nx1 vector of target labels \n",
        "y = 1.0*np.ones([A.shape[0],1])\n",
        "# print ('y',y)\n",
        "for i in range(digits.target.shape[0]):\n",
        "    if digits.target[i] == 0:\n",
        "        y[i] = 1\n",
        "    else:\n",
        "        y[i] = -1"
      ],
      "execution_count": null,
      "outputs": []
    },
    {
      "cell_type": "code",
      "metadata": {
        "id": "Nl35Cef81T64"
      },
      "source": [
        "#Create an index array \n",
        "indexarr = np.arange(n) #index array\n",
        "np.random.shuffle(indexarr) #shuffle the indices \n",
        "#print('shuffled indices of samples:')\n",
        "#print(indexarr)"
      ],
      "execution_count": null,
      "outputs": []
    },
    {
      "cell_type": "code",
      "metadata": {
        "colab": {
          "base_uri": "https://localhost:8080/"
        },
        "id": "uNP-DYbh1T66",
        "outputId": "cd74fbd1-0025-4c28-9a8f-bc717ac0e954"
      },
      "source": [
        "#Use the samples corresponding to first 80% of indexarr for training \n",
        "num_train = int(0.8*n)\n",
        "#Use the remaining 20% samples for testing \n",
        "num_test = n-num_train\n",
        "print('num_train: ',num_train, 'num_test: ', num_test)"
      ],
      "execution_count": null,
      "outputs": [
        {
          "output_type": "stream",
          "name": "stdout",
          "text": [
            "num_train:  1437 num_test:  360\n"
          ]
        }
      ]
    },
    {
      "cell_type": "code",
      "metadata": {
        "colab": {
          "base_uri": "https://localhost:8080/"
        },
        "id": "s-S2kwzk1T67",
        "outputId": "c774260d-41f1-4bcd-c4a9-f2b32c439f20"
      },
      "source": [
        "#Use the first 80% of indexarr to create the train data features and train labels \n",
        "train_features = A[indexarr[0:num_train]]\n",
        "train_label = y[indexarr[0:num_train]]\n",
        "print('shape of train data features:')\n",
        "print(train_features.shape)\n",
        "print('shape of train data labels')\n",
        "print(train_label.shape)"
      ],
      "execution_count": null,
      "outputs": [
        {
          "output_type": "stream",
          "name": "stdout",
          "text": [
            "shape of train data features:\n",
            "(1437, 64)\n",
            "shape of train data labels\n",
            "(1437, 1)\n"
          ]
        }
      ]
    },
    {
      "cell_type": "code",
      "metadata": {
        "colab": {
          "base_uri": "https://localhost:8080/"
        },
        "id": "ok1M3Lrf1T69",
        "outputId": "977319ff-b5c9-4a00-9719-e34328f0617e"
      },
      "source": [
        "#Use remaining 20% of indexarr to create the test data and test labels  \n",
        "test_features = A[indexarr[num_train:n]]\n",
        "test_label = y[indexarr[num_train:n]]\n",
        "print('shape of test data features:')\n",
        "print(test_features.shape)\n",
        "print('shape of test data labels')\n",
        "print(test_label.shape)"
      ],
      "execution_count": null,
      "outputs": [
        {
          "output_type": "stream",
          "name": "stdout",
          "text": [
            "shape of test data features:\n",
            "(360, 64)\n",
            "shape of test data labels\n",
            "(360, 1)\n"
          ]
        }
      ]
    },
    {
      "cell_type": "code",
      "metadata": {
        "colab": {
          "base_uri": "https://localhost:8080/",
          "height": 370
        },
        "id": "3sdclQ9GHByx",
        "outputId": "6ddf9578-2cfe-42f3-d910-f81b9089382b"
      },
      "source": [
        "clf = tree.DecisionTreeClassifier(criterion='entropy',max_depth=2)\n",
        "#train using decision tree classifier and plot the resultant decision tree\n",
        "tree.plot_tree(clf.fit(train_features, train_label))  "
      ],
      "execution_count": null,
      "outputs": [
        {
          "output_type": "execute_result",
          "data": {
            "text/plain": [
              "[Text(167.4, 181.2, 'X[36] <= 0.5\\nentropy = 0.459\\nsamples = 1437\\nvalue = [1298, 139]'),\n",
              " Text(83.7, 108.72, 'X[28] <= 5.0\\nentropy = 0.964\\nsamples = 221\\nvalue = [86, 135]'),\n",
              " Text(41.85, 36.23999999999998, 'entropy = 0.539\\nsamples = 154\\nvalue = [19, 135]'),\n",
              " Text(125.55000000000001, 36.23999999999998, 'entropy = 0.0\\nsamples = 67\\nvalue = [67, 0]'),\n",
              " Text(251.10000000000002, 108.72, 'X[36] <= 3.5\\nentropy = 0.032\\nsamples = 1216\\nvalue = [1212, 4]'),\n",
              " Text(209.25, 36.23999999999998, 'entropy = 0.286\\nsamples = 80\\nvalue = [76, 4]'),\n",
              " Text(292.95, 36.23999999999998, 'entropy = 0.0\\nsamples = 1136\\nvalue = [1136, 0]')]"
            ]
          },
          "metadata": {},
          "execution_count": 42
        },
        {
          "output_type": "display_data",
          "data": {
            "image/png": "[encoded data removed]",
            "text/plain": [
              "<Figure size 432x288 with 1 Axes>"
            ]
          },
          "metadata": {
            "needs_background": "light"
          }
        }
      ]
    },
    {
      "cell_type": "markdown",
      "metadata": {
        "id": "ZiNC9iphHOID"
      },
      "source": [
        "Let's verify the entropy using formula discussed in the previous class.\n",
        "\n",
        "**Entropy at root node**\n",
        "\n",
        "$\n",
        "\\begin{align*}\n",
        "& = -P(y = 1)\\log_2(P(y = 1)) - P(y = -1)\\log_2(P(y = -1))  \\\\\n",
        "& = -\\frac{1298}{1437}\\log_2\\left(\\frac{1298}{1437} \\right) - \\frac{139}{1437}\\log_2\\left(\\frac{139}{1437} \\right) \\\\\n",
        "& = 0.459\n",
        "\\end{align*}\n",
        "$\n",
        "\n",
        "**Entropy at node $x[36] \\leq 0.5$**\n",
        "\n",
        "$\n",
        "\\begin{align*}\n",
        "& = -P(y = 1|x[36] \\leq 0.5)\\log_2(P(y = 1|x[36] \\leq 0.5)) - P(y = -1|x[36] \\leq 0.5)\\log_2(P(y = -1)|x[36] \\leq 0.5)  \\\\\n",
        "& = -\\frac{86}{221}\\log_2\\left(\\frac{86}{221} \\right) - \\frac{135}{221}\\log_2\\left(\\frac{135}{221} \\right) \\\\\n",
        "& = 0.964\n",
        "\\end{align*}\n",
        "$\n",
        "\n",
        "**Entropy at node $x[36] > 0.5$**\n",
        "\n",
        "$\n",
        "\\begin{align*}\n",
        "& = -P(y = 1|x[36] > 0.5)\\log_2(P(y = 1|x[36] > 0.5)) - \\left(P(y = -1|x[36] > 0.5)\\log_2(P(y = -1|x[36] > 0.5)\\right) \\\\\n",
        "& = -\\frac{1212}{1216}\\log_2\\left(\\frac{1212}{1216} \\right) - \\frac{4}{1216}\\log_2\\left(\\frac{4}{1216} \\right) \\\\\n",
        "& = 0.032\n",
        "\\end{align*}\n",
        "$"
      ]
    },
    {
      "cell_type": "markdown",
      "metadata": {
        "id": "Kw_fzr-kjqu0"
      },
      "source": [
        "What is gini index? Let's see it on an example with depth 2"
      ]
    },
    {
      "cell_type": "code",
      "metadata": {
        "colab": {
          "base_uri": "https://localhost:8080/",
          "height": 370
        },
        "id": "1dF9Fni48_i2",
        "outputId": "d9e04b71-8b1c-44c5-8ab9-436a5c1fffb6"
      },
      "source": [
        "clf = tree.DecisionTreeClassifier(criterion='gini',max_depth=2)\n",
        "#train using decision tree classifier and plot the resultant decision tree\n",
        "tree.plot_tree(clf.fit(train_features, train_label)) "
      ],
      "execution_count": null,
      "outputs": [
        {
          "output_type": "execute_result",
          "data": {
            "text/plain": [
              "[Text(167.4, 181.2, 'X[36] <= 0.5\\ngini = 0.175\\nsamples = 1437\\nvalue = [1298, 139]'),\n",
              " Text(83.7, 108.72, 'X[28] <= 2.5\\ngini = 0.475\\nsamples = 221\\nvalue = [86, 135]'),\n",
              " Text(41.85, 36.23999999999998, 'gini = 0.182\\nsamples = 148\\nvalue = [15, 133]'),\n",
              " Text(125.55000000000001, 36.23999999999998, 'gini = 0.053\\nsamples = 73\\nvalue = [71, 2]'),\n",
              " Text(251.10000000000002, 108.72, 'X[36] <= 3.5\\ngini = 0.007\\nsamples = 1216\\nvalue = [1212, 4]'),\n",
              " Text(209.25, 36.23999999999998, 'gini = 0.095\\nsamples = 80\\nvalue = [76, 4]'),\n",
              " Text(292.95, 36.23999999999998, 'gini = 0.0\\nsamples = 1136\\nvalue = [1136, 0]')]"
            ]
          },
          "metadata": {},
          "execution_count": 43
        },
        {
          "output_type": "display_data",
          "data": {
            "image/png": "[encoded data removed]",
            "text/plain": [
              "<Figure size 432x288 with 1 Axes>"
            ]
          },
          "metadata": {
            "needs_background": "light"
          }
        }
      ]
    },
    {
      "cell_type": "markdown",
      "metadata": {
        "id": "9-H_9rQFCErX"
      },
      "source": [
        "**Gini index at root node**\n",
        "\n",
        "$\n",
        "\\begin{align*}\n",
        "& = 1-\\left(P^2(y = 1) + P^2(y = -1) \\right) \\\\\n",
        "& = 1- \\left( \\left( \\frac{1298}{1437} \\right)^2 + \\left( \\frac{139}{1437} \\right)^2 \\right) \\\\\n",
        "& = 0.175 \n",
        "\\end{align*}\n",
        "$\n",
        "\n",
        "**Gini index at node $x[36] \\leq 0.5$**\n",
        "\n",
        "$\n",
        "\\begin{align*}\n",
        "& = 1-\\left((P(y = 1)|x[36] \\leq 0.5))^2 + (P(y = -1)|x[36] \\leq 0.5))^2 \\right) \\\\\n",
        "& = 1- \\left( \\left( \\frac{86}{221} \\right)^2 + \\left( \\frac{135}{221} \\right)^2 \\right) \\\\\n",
        "& = 0.475\n",
        "\\end{align*}\n",
        "$\n",
        "\n",
        "**Gini index at node $x[36] > 0.5$**\n",
        "\n",
        "$\n",
        "\\begin{align*}\n",
        "& = 1-\\left((P(y = 1)|x[36] > 0.5))^2 + (P(y = -1)|x[36] > 0.5))^2 \\right) \\\\\n",
        "& = 1- \\left( \\left( \\frac{1212}{1216} \\right)^2 + \\left( \\frac{4}{1216} \\right)^2 \\right) \\\\\n",
        "& = 0.007\n",
        "\\end{align*}\n",
        "$\n",
        "\n",
        "We can see that gini index is easier to compute as compared to entropy. Next, we will see if there is any difference in the train and test accuracy using gini and entropy criteria."
      ]
    },
    {
      "cell_type": "code",
      "metadata": {
        "colab": {
          "base_uri": "https://localhost:8080/",
          "height": 248
        },
        "id": "NyffgAa2e5Dn",
        "outputId": "ac3d26e8-5275-4f32-cdf3-4d5fde5a2676"
      },
      "source": [
        "## running decision tree with entropy criterion for different depths\n",
        "maximum_depth = [1,2,5,10,15,20]\n",
        "train_accuracy_entropy = []\n",
        "test_accuracy_entropy = []\n",
        "for i in maximum_depth:\n",
        "  #create a decision tree classifier with 'entropy' as criterion\n",
        "  clf = tree.DecisionTreeClassifier(criterion='entropy',max_depth=i)\n",
        "  #train using decision tree classifier and plot the resultant decision tree\n",
        "  tree.plot_tree(clf.fit(train_features, train_label)) \n",
        "  #Get the trained model in clf_model\n",
        "  clf_model = clf.fit(train_features,train_label)\n",
        "  #We will now use the trained model for predition on the test data set\n",
        "  predicted_labels = clf_model.predict(test_features)   \n",
        "  #reshaping predicted_labels so that it is of the same shape as test_label\n",
        "  predicted_labels = np.reshape(predicted_labels.data,(num_test,1))\n",
        "  #If you wish to see how predicted_labels and test_label look, you can print them and check\n",
        "  #print(predicted_labels)\n",
        "  #print(test_label)\n",
        "  #compute test set error and test set accuracy \n",
        "  test_error = np.sum(0.5*np.abs(predicted_labels-test_label))/len(test_label)*100.0 #Try to understand this equation\n",
        "  test_accuracy = 100.0-test_error\n",
        "  test_accuracy_entropy.append(test_accuracy)\n",
        "  #print the test set accuracy \n",
        "  # print('test set accuracy using gini:', test_accuracy_gini)\n",
        "  #We can also use the trained model clf_model to predict the train set \n",
        "  predicted_train_labels = clf_model.predict(train_features)\n",
        "  #reshaping predicted_train_labels so that it is of the same shape as train_label\n",
        "  predicted_train_labels = np.reshape(predicted_train_labels.data,(num_train,1))\n",
        "  #compute train set error and train set accuracy \n",
        "  train_error = np.sum(0.5*np.abs(predicted_train_labels-train_label))/len(train_label)*100.0\n",
        "  train_accuracy = 100.0-train_error\n",
        "  train_accuracy_entropy.append(train_accuracy)\n"
      ],
      "execution_count": null,
      "outputs": [
        {
          "output_type": "display_data",
          "data": {
            "image/png": "[encoded data removed]",
            "text/plain": [
              "<Figure size 432x288 with 1 Axes>"
            ]
          },
          "metadata": {
            "needs_background": "light"
          }
        }
      ]
    },
    {
      "cell_type": "code",
      "metadata": {
        "colab": {
          "base_uri": "https://localhost:8080/",
          "height": 248
        },
        "id": "P1aBupEXipqQ",
        "outputId": "0570ea61-cdb6-4281-cb9e-ca85cd0e9cf6"
      },
      "source": [
        "## running decision tree with gini criterion for different depths\n",
        "train_accuracy_gini = []\n",
        "test_accuracy_gini = []\n",
        "for i in maximum_depth:\n",
        "  #create a decision tree classifier with 'entropy' as criterion\n",
        "  clf = tree.DecisionTreeClassifier(criterion='gini',max_depth=i)\n",
        "  #train using decision tree classifier and plot the resultant decision tree\n",
        "  tree.plot_tree(clf.fit(train_features, train_label)) \n",
        "  #Get the trained model in clf_model\n",
        "  clf_model = clf.fit(train_features,train_label)\n",
        "  #We will now use the trained model for predition on the test data set\n",
        "  predicted_labels = clf_model.predict(test_features)   \n",
        "  #reshaping predicted_labels so that it is of the same shape as test_label\n",
        "  predicted_labels = np.reshape(predicted_labels.data,(num_test,1))\n",
        "  #If you wish to see how predicted_labels and test_label look, you can print them and check\n",
        "  #print(predicted_labels)\n",
        "  #print(test_label)\n",
        "  #compute test set error and test set accuracy \n",
        "  test_error = np.sum(0.5*np.abs(predicted_labels-test_label))/len(test_label)*100.0 #Try to understand this equation\n",
        "  test_accuracy = 100.0-test_error\n",
        "  test_accuracy_gini.append(test_accuracy)\n",
        "  #print the test set accuracy \n",
        "  # print('test set accuracy using gini:', test_accuracy_gini)\n",
        "  #We can also use the trained model clf_model to predict the train set \n",
        "  predicted_train_labels = clf_model.predict(train_features)\n",
        "  #reshaping predicted_train_labels so that it is of the same shape as train_label\n",
        "  predicted_train_labels = np.reshape(predicted_train_labels.data,(num_train,1))\n",
        "  #compute train set error and train set accuracy \n",
        "  train_error = np.sum(0.5*np.abs(predicted_train_labels-train_label))/len(train_label)*100.0\n",
        "  train_accuracy = 100.0-train_error\n",
        "  train_accuracy_gini.append(train_accuracy)\n"
      ],
      "execution_count": null,
      "outputs": [
        {
          "output_type": "display_data",
          "data": {
            "image/png": "[encoded data removed]",
            "text/plain": [
              "<Figure size 432x288 with 1 Axes>"
            ]
          },
          "metadata": {
            "needs_background": "light"
          }
        }
      ]
    },
    {
      "cell_type": "code",
      "metadata": {
        "colab": {
          "base_uri": "https://localhost:8080/"
        },
        "id": "isvQTlnKiUbp",
        "outputId": "a32e7595-041e-4f04-c4e8-a7be87c5aba6"
      },
      "source": [
        "print ('train accuracy using entropy:')\n",
        "print (train_accuracy_entropy)\n",
        "print ('train accuracy using gini')\n",
        "print (train_accuracy_gini)\n",
        "print ('test accuracy using entropy')\n",
        "print (test_accuracy_entropy)\n",
        "print ('test accuracy using gini')\n",
        "print (test_accuracy_gini)"
      ],
      "execution_count": null,
      "outputs": [
        {
          "output_type": "stream",
          "name": "stdout",
          "text": [
            "train accuracy using entropy:\n",
            "[93.73695198329854, 98.39944328462074, 100.0, 100.0, 100.0, 100.0]\n",
            "train accuracy using gini\n",
            "[93.73695198329854, 98.53862212943632, 100.0, 100.0, 100.0, 100.0]\n",
            "test accuracy using entropy\n",
            "[95.83333333333333, 99.16666666666667, 99.44444444444444, 99.72222222222223, 99.72222222222223, 99.72222222222223]\n",
            "test accuracy using gini\n",
            "[95.83333333333333, 99.16666666666667, 99.16666666666667, 98.88888888888889, 99.16666666666667, 99.16666666666667]\n"
          ]
        }
      ]
    },
    {
      "cell_type": "code",
      "metadata": {
        "colab": {
          "base_uri": "https://localhost:8080/"
        },
        "id": "vR2FhvmylfS-",
        "outputId": "b96f3fa9-3d51-433a-90f4-d05238f1c2d2"
      },
      "source": [
        "from sklearn.metrics import confusion_matrix\n",
        "\n",
        "clf = tree.DecisionTreeClassifier(criterion='entropy',max_depth=10)\n",
        "# tree.plot_tree(clf.fit(train_features, train_label)) \n",
        "clf_model = clf.fit(train_features,train_label)\n",
        "predicted_test_labels = clf_model.predict(test_features)\n",
        "\n",
        "cm = confusion_matrix(test_label, predicted_test_labels)\n",
        "print(cm)"
      ],
      "execution_count": null,
      "outputs": [
        {
          "output_type": "stream",
          "name": "stdout",
          "text": [
            "[[320   1]\n",
            " [  1  38]]\n"
          ]
        }
      ]
    },
    {
      "cell_type": "code",
      "metadata": {
        "colab": {
          "base_uri": "https://localhost:8080/",
          "height": 312
        },
        "id": "KU-jwkaNmZe5",
        "outputId": "d83b3d27-7a99-4108-e881-0dd018853dff"
      },
      "source": [
        "#Plotting the confusion matrix for better interpretation\n",
        "import seaborn as sns\n",
        "import matplotlib.pyplot as plt\n",
        "ax = plt.subplot()\n",
        "sns.heatmap(cm, annot=True, fmt='g', ax=ax)\n",
        "# labels, title and ticks\n",
        "ax.set_xlabel('Predicted labels')\n",
        "ax.set_ylabel('True labels')\n",
        "ax.set_title('Confusion Matrix')\n",
        "ax.xaxis.set_ticklabels(['-1', '1'])\n",
        "ax.yaxis.set_ticklabels(['-1', '1'])"
      ],
      "execution_count": null,
      "outputs": [
        {
          "output_type": "execute_result",
          "data": {
            "text/plain": [
              "[Text(0, 0.5, '-1'), Text(0, 1.5, '1')]"
            ]
          },
          "metadata": {},
          "execution_count": 48
        },
        {
          "output_type": "display_data",
          "data": {
            "image/png": "[encoded data removed]",
            "text/plain": [
              "<Figure size 432x288 with 2 Axes>"
            ]
          },
          "metadata": {
            "needs_background": "light"
          }
        }
      ]
    },
    {
      "cell_type": "markdown",
      "metadata": {
        "id": "om1iAq1Rm132"
      },
      "source": [
        "In order to deal with *imbalanced data*, we can look at the following:\n",
        "\n",
        "\n",
        "*   True Positive  (TP)\n",
        "*   True Negative  (TN)\n",
        "*   False Positive (FP)\n",
        "*   False Negative (FN).\n",
        "\n",
        "Based on the above classes, the following can be defined:\n",
        "$$Precision = \\frac{TP}{TP + FP}$$\n",
        "$$Recall = \\frac{TP}{TP + FN}$$\n",
        "$$F-Measure = 2\\frac{Precision\\times Recall}{Precision + Recall}$$\n",
        "$$ Support = \\text{Number of occurences of each class in true label set} $$\n",
        "\n",
        "Note: All the expressions are based on the existence of a positive class and a negative class.\n",
        "\n",
        "\n",
        "\n",
        "\n"
      ]
    },
    {
      "cell_type": "code",
      "metadata": {
        "colab": {
          "base_uri": "https://localhost:8080/"
        },
        "id": "d0zZfcR2y8hU",
        "outputId": "3d568c09-1b4f-467e-d150-692bb0fde70b"
      },
      "source": [
        "from sklearn.metrics import classification_report\n",
        "test_cr = classification_report(test_label, predicted_test_labels)\n",
        "print(\"Test Report:\")\n",
        "print(test_cr)"
      ],
      "execution_count": null,
      "outputs": [
        {
          "output_type": "stream",
          "name": "stdout",
          "text": [
            "Test Report:\n",
            "              precision    recall  f1-score   support\n",
            "\n",
            "        -1.0       1.00      1.00      1.00       321\n",
            "         1.0       0.97      0.97      0.97        39\n",
            "\n",
            "    accuracy                           0.99       360\n",
            "   macro avg       0.99      0.99      0.99       360\n",
            "weighted avg       0.99      0.99      0.99       360\n",
            "\n"
          ]
        }
      ]
    },
    {
      "cell_type": "code",
      "metadata": {
        "colab": {
          "base_uri": "https://localhost:8080/"
        },
        "id": "U-9VdBSGn5zu",
        "outputId": "5ba7224f-20fb-4ff8-d4d9-456f2ae41f09"
      },
      "source": [
        "from sklearn.metrics import precision_recall_fscore_support\n",
        "test_cr = precision_recall_fscore_support(test_label, predicted_test_labels)\n",
        "print(\"Test Report:\")\n",
        "print(test_cr)"
      ],
      "execution_count": null,
      "outputs": [
        {
          "output_type": "stream",
          "name": "stdout",
          "text": [
            "Test Report:\n",
            "(array([0.99688474, 0.97435897]), array([0.99688474, 0.97435897]), array([0.99688474, 0.97435897]), array([321,  39]))\n"
          ]
        }
      ]
    }
  ]
}
